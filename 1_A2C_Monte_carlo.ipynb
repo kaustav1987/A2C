{
  "nbformat": 4,
  "nbformat_minor": 0,
  "metadata": {
    "colab": {
      "name": "1.A2C Monte carlo.ipynb",
      "version": "0.3.2",
      "provenance": [],
      "collapsed_sections": []
    },
    "kernelspec": {
      "name": "python3",
      "display_name": "Python 3"
    },
    "accelerator": "GPU"
  },
  "cells": [
    {
      "cell_type": "markdown",
      "metadata": {
        "id": "iEgfmiy2FWUL",
        "colab_type": "text"
      },
      "source": [
        "# A2C \n",
        "---\n",
        "In this notebook, you will implement a A2c agent with OpenAI Gym's xxx environment.\n",
        "\n",
        "### 1. Import the Necessary Packages"
      ]
    },
    {
      "cell_type": "markdown",
      "metadata": {
        "id": "zxRb62Ef0hc7",
        "colab_type": "text"
      },
      "source": [
        "Here I have used the difference between the Qvalue of the current state and the Monte Carlo reward. SO I am not expecting the variance to be low for this implementation. We will take care of that in the next implementations.\n",
        "\n",
        "Here I have used one Optimizer for both the actor and critic. Feel free to split that up and check for your training environment"
      ]
    },
    {
      "cell_type": "code",
      "metadata": {
        "id": "3VFiSY_fFiR2",
        "colab_type": "code",
        "outputId": "5407bcad-cec4-4195-87cd-417d7092b71c",
        "colab": {
          "base_uri": "https://localhost:8080/",
          "height": 1000
        }
      },
      "source": [
        "# memory footprint support libraries/code\n",
        "!ln -sf /opt/bin/nvidia-smi /usr/bin/nvidia-smi\n",
        "!pip install gputil\n",
        "!pip install psutil\n",
        "!pip install humanize\n",
        "import psutil\n",
        "import humanize\n",
        "import os\n",
        "import GPUtil as GPU\n",
        "GPUs = GPU.getGPUs()\n",
        "# XXX: only one GPU on Colab and isn’t guaranteed\n",
        "gpu = GPUs[0]\n",
        "def printm():\n",
        " process = psutil.Process(os.getpid())\n",
        " print(\"Gen RAM Free: \" + humanize.naturalsize( psutil.virtual_memory().available ), \" | Proc size: \" + humanize.naturalsize( process.memory_info().rss))\n",
        " #print(\"GPU RAM Free: {0:.0f}MB | Used: {1:.0f}MB | Util {2:3.0f}% | Total {3:.0f}MB\".format(gpu.memoryFree, gpu.memoryUsed, gpu.memoryUtil*100, gpu.memoryTotal))\n",
        " print(\"GPU RAM Free: {0:.2f}GB | Used: {1:.0f}MB | Util {2:3.0f}% | Total {3:.2f}GB\".format(gpu.memoryFree/1024, gpu.memoryUsed, gpu.memoryUtil*100, gpu.memoryTotal/1024))\n",
        "printm()\n",
        "###\n",
        "\n",
        "\n",
        "!apt-get install -y python-numpy python-dev cmake zlib1g-dev libjpeg-dev xvfb libav-tools xorg-dev python-opengl libboost-all-dev libsdl2-dev swig\n",
        "!pip install pyvirtualdisplay\n",
        "##!pip install piglet\n",
        "!pip install pyglet==1.3.2\n",
        "!apt-get install xvfb\n",
        "from pyvirtualdisplay import Display\n",
        "!apt-get install cmake\n",
        "!pip install setuptool\n",
        "!pip install ez_setup\n",
        "!pip install gym[atari] \n",
        "\n",
        "##\n",
        "\n",
        "#import gym\n",
        "##!pip3 install box2d\n",
        "!pip install box2d-py\n",
        "!pip install gym[Box_2D]\n",
        "import gym\n",
        "\n",
        "##\n",
        "import random\n",
        "import torch\n",
        "import numpy as np\n",
        "from collections import deque\n",
        "import matplotlib.pyplot as plt\n",
        "%matplotlib inline\n",
        "\n",
        "!python -m pip install pyvirtualdisplay\n",
        "from pyvirtualdisplay import Display\n",
        "display = Display(visible=0, size=(1400, 900))\n",
        "display.start()\n",
        "\n",
        "is_ipython = 'inline' in plt.get_backend()\n",
        "if is_ipython:\n",
        "    from IPython import display\n",
        "\n",
        "plt.ion()\n"
      ],
      "execution_count": 144,
      "outputs": [
        {
          "output_type": "stream",
          "text": [
            "Requirement already satisfied: gputil in /usr/local/lib/python3.6/dist-packages (1.4.0)\n",
            "Requirement already satisfied: psutil in /usr/local/lib/python3.6/dist-packages (5.4.8)\n",
            "Requirement already satisfied: humanize in /usr/local/lib/python3.6/dist-packages (0.5.1)\n",
            "Gen RAM Free: 11.4 GB  | Proc size: 1.9 GB\n",
            "GPU RAM Free: 10.84GB | Used: 338MB | Util   3% | Total 11.17GB\n",
            "Reading package lists... Done\n",
            "Building dependency tree       \n",
            "Reading state information... Done\n",
            "Package libav-tools is not available, but is referred to by another package.\n",
            "This may mean that the package is missing, has been obsoleted, or\n",
            "is only available from another source\n",
            "However the following packages replace it:\n",
            "  ffmpeg\n",
            "\n",
            "E: Package 'libav-tools' has no installation candidate\n",
            "Requirement already satisfied: pyvirtualdisplay in /usr/local/lib/python3.6/dist-packages (0.2.4)\n",
            "Requirement already satisfied: EasyProcess in /usr/local/lib/python3.6/dist-packages (from pyvirtualdisplay) (0.2.7)\n",
            "Requirement already satisfied: pyglet==1.3.2 in /usr/local/lib/python3.6/dist-packages (1.3.2)\n",
            "Requirement already satisfied: future in /usr/local/lib/python3.6/dist-packages (from pyglet==1.3.2) (0.16.0)\n",
            "Reading package lists... Done\n",
            "Building dependency tree       \n",
            "Reading state information... Done\n",
            "xvfb is already the newest version (2:1.19.6-1ubuntu4.3).\n",
            "0 upgraded, 0 newly installed, 0 to remove and 8 not upgraded.\n",
            "Reading package lists... Done\n",
            "Building dependency tree       \n",
            "Reading state information... Done\n",
            "cmake is already the newest version (3.10.2-1ubuntu2.18.04.1).\n",
            "0 upgraded, 0 newly installed, 0 to remove and 8 not upgraded.\n",
            "Collecting setuptool\n",
            "\u001b[31m  ERROR: Could not find a version that satisfies the requirement setuptool (from versions: none)\u001b[0m\n",
            "\u001b[31mERROR: No matching distribution found for setuptool\u001b[0m\n",
            "Requirement already satisfied: ez_setup in /usr/local/lib/python3.6/dist-packages (0.9)\n",
            "Requirement already satisfied: gym[atari] in /usr/local/lib/python3.6/dist-packages (0.10.11)\n",
            "Requirement already satisfied: six in /usr/local/lib/python3.6/dist-packages (from gym[atari]) (1.12.0)\n",
            "Requirement already satisfied: numpy>=1.10.4 in /usr/local/lib/python3.6/dist-packages (from gym[atari]) (1.16.5)\n",
            "Requirement already satisfied: pyglet>=1.2.0 in /usr/local/lib/python3.6/dist-packages (from gym[atari]) (1.3.2)\n",
            "Requirement already satisfied: scipy in /usr/local/lib/python3.6/dist-packages (from gym[atari]) (1.3.1)\n",
            "Requirement already satisfied: requests>=2.0 in /usr/local/lib/python3.6/dist-packages (from gym[atari]) (2.21.0)\n",
            "Requirement already satisfied: Pillow; extra == \"atari\" in /usr/local/lib/python3.6/dist-packages (from gym[atari]) (4.3.0)\n",
            "Requirement already satisfied: PyOpenGL; extra == \"atari\" in /usr/local/lib/python3.6/dist-packages (from gym[atari]) (3.1.0)\n",
            "Requirement already satisfied: atari-py>=0.1.4; extra == \"atari\" in /usr/local/lib/python3.6/dist-packages (from gym[atari]) (0.1.15)\n",
            "Requirement already satisfied: future in /usr/local/lib/python3.6/dist-packages (from pyglet>=1.2.0->gym[atari]) (0.16.0)\n",
            "Requirement already satisfied: certifi>=2017.4.17 in /usr/local/lib/python3.6/dist-packages (from requests>=2.0->gym[atari]) (2019.6.16)\n",
            "Requirement already satisfied: idna<2.9,>=2.5 in /usr/local/lib/python3.6/dist-packages (from requests>=2.0->gym[atari]) (2.8)\n",
            "Requirement already satisfied: chardet<3.1.0,>=3.0.2 in /usr/local/lib/python3.6/dist-packages (from requests>=2.0->gym[atari]) (3.0.4)\n",
            "Requirement already satisfied: urllib3<1.25,>=1.21.1 in /usr/local/lib/python3.6/dist-packages (from requests>=2.0->gym[atari]) (1.24.3)\n",
            "Requirement already satisfied: olefile in /usr/local/lib/python3.6/dist-packages (from Pillow; extra == \"atari\"->gym[atari]) (0.46)\n",
            "Requirement already satisfied: box2d-py in /usr/local/lib/python3.6/dist-packages (2.3.8)\n",
            "Requirement already satisfied: gym[Box_2D] in /usr/local/lib/python3.6/dist-packages (0.10.11)\n",
            "\u001b[33m  WARNING: gym 0.10.11 does not provide the extra 'box_2d'\u001b[0m\n",
            "Requirement already satisfied: numpy>=1.10.4 in /usr/local/lib/python3.6/dist-packages (from gym[Box_2D]) (1.16.5)\n",
            "Requirement already satisfied: pyglet>=1.2.0 in /usr/local/lib/python3.6/dist-packages (from gym[Box_2D]) (1.3.2)\n",
            "Requirement already satisfied: requests>=2.0 in /usr/local/lib/python3.6/dist-packages (from gym[Box_2D]) (2.21.0)\n",
            "Requirement already satisfied: scipy in /usr/local/lib/python3.6/dist-packages (from gym[Box_2D]) (1.3.1)\n",
            "Requirement already satisfied: six in /usr/local/lib/python3.6/dist-packages (from gym[Box_2D]) (1.12.0)\n",
            "Requirement already satisfied: future in /usr/local/lib/python3.6/dist-packages (from pyglet>=1.2.0->gym[Box_2D]) (0.16.0)\n",
            "Requirement already satisfied: idna<2.9,>=2.5 in /usr/local/lib/python3.6/dist-packages (from requests>=2.0->gym[Box_2D]) (2.8)\n",
            "Requirement already satisfied: urllib3<1.25,>=1.21.1 in /usr/local/lib/python3.6/dist-packages (from requests>=2.0->gym[Box_2D]) (1.24.3)\n",
            "Requirement already satisfied: chardet<3.1.0,>=3.0.2 in /usr/local/lib/python3.6/dist-packages (from requests>=2.0->gym[Box_2D]) (3.0.4)\n",
            "Requirement already satisfied: certifi>=2017.4.17 in /usr/local/lib/python3.6/dist-packages (from requests>=2.0->gym[Box_2D]) (2019.6.16)\n",
            "Requirement already satisfied: pyvirtualdisplay in /usr/local/lib/python3.6/dist-packages (0.2.4)\n",
            "Requirement already satisfied: EasyProcess in /usr/local/lib/python3.6/dist-packages (from pyvirtualdisplay) (0.2.7)\n"
          ],
          "name": "stdout"
        },
        {
          "output_type": "stream",
          "text": [
            "xdpyinfo was not found, X start can not be checked! Please install xdpyinfo!\n"
          ],
          "name": "stderr"
        }
      ]
    },
    {
      "cell_type": "code",
      "metadata": {
        "id": "Bgv5brNrFzLz",
        "colab_type": "code",
        "colab": {}
      },
      "source": [
        ""
      ],
      "execution_count": 0,
      "outputs": []
    },
    {
      "cell_type": "code",
      "metadata": {
        "id": "AvMcPVVNGIDG",
        "colab_type": "code",
        "colab": {}
      },
      "source": [
        "import torch\n",
        "import torch.nn as nn\n",
        "import torch.nn.functional as F\n",
        "from   torch.optim import Adam\n",
        "from torch.autograd import Variable\n",
        "import gym\n",
        "import numpy  as np\n",
        "import pandas as pd\n",
        "import matplotlib.pyplot as plt\n",
        "from torch.distributions import Categorical"
      ],
      "execution_count": 0,
      "outputs": []
    },
    {
      "cell_type": "code",
      "metadata": {
        "id": "58mbleSBGoU7",
        "colab_type": "code",
        "colab": {}
      },
      "source": [
        "# hyperparameters\n",
        "hidden_size = 256\n",
        "learning_rate = 3e-4\n",
        "\n",
        "# Constants\n",
        "GAMMA = 0.99\n",
        "num_steps = 300 ## Here I am going till the end of any episode\n",
        "n_episodes =4000\n",
        "\n",
        "device = torch.device('cuda:0' if torch.cuda.is_available() else 'cpu')"
      ],
      "execution_count": 0,
      "outputs": []
    },
    {
      "cell_type": "code",
      "metadata": {
        "id": "Yv_oFhns9QqL",
        "colab_type": "code",
        "colab": {}
      },
      "source": [
        "\n",
        "  \n",
        "#This code is from openai baseline\n",
        "#https://github.com/openai/baselines/tree/master/baselines/common/vec_env\n",
        "\n",
        "import numpy as np\n",
        "from multiprocessing import Process, Pipe\n",
        "\n",
        "def worker(remote, parent_remote, env_fn_wrapper):\n",
        "    parent_remote.close()\n",
        "    env = env_fn_wrapper.x()\n",
        "    while True:\n",
        "        cmd, data = remote.recv()\n",
        "        if cmd == 'step':\n",
        "            ob, reward, done, info = env.step(data)\n",
        "            if done:\n",
        "                ob = env.reset()\n",
        "            remote.send((ob, reward, done, info))\n",
        "        elif cmd == 'reset':\n",
        "            ob = env.reset()\n",
        "            remote.send(ob)\n",
        "        elif cmd == 'reset_task':\n",
        "            ob = env.reset_task()\n",
        "            remote.send(ob)\n",
        "        elif cmd == 'close':\n",
        "            remote.close()\n",
        "            break\n",
        "        elif cmd == 'get_spaces':\n",
        "            remote.send((env.observation_space, env.action_space))\n",
        "        else:\n",
        "            raise NotImplementedError\n",
        "\n",
        "class VecEnv(object):\n",
        "    \"\"\"\n",
        "    An abstract asynchronous, vectorized environment.\n",
        "    \"\"\"\n",
        "    def __init__(self, num_envs, observation_space, action_space):\n",
        "        self.num_envs = num_envs\n",
        "        self.observation_space = observation_space\n",
        "        self.action_space = action_space\n",
        "\n",
        "    def reset(self):\n",
        "        \"\"\"\n",
        "        Reset all the environments and return an array of\n",
        "        observations, or a tuple of observation arrays.\n",
        "        If step_async is still doing work, that work will\n",
        "        be cancelled and step_wait() should not be called\n",
        "        until step_async() is invoked again.\n",
        "        \"\"\"\n",
        "        pass\n",
        "\n",
        "    def step_async(self, actions):\n",
        "        \"\"\"\n",
        "        Tell all the environments to start taking a step\n",
        "        with the given actions.\n",
        "        Call step_wait() to get the results of the step.\n",
        "        You should not call this if a step_async run is\n",
        "        already pending.\n",
        "        \"\"\"\n",
        "        pass\n",
        "\n",
        "    def step_wait(self):\n",
        "        \"\"\"\n",
        "        Wait for the step taken with step_async().\n",
        "        Returns (obs, rews, dones, infos):\n",
        "         - obs: an array of observations, or a tuple of\n",
        "                arrays of observations.\n",
        "         - rews: an array of rewards\n",
        "         - dones: an array of \"episode done\" booleans\n",
        "         - infos: a sequence of info objects\n",
        "        \"\"\"\n",
        "        pass\n",
        "\n",
        "    def close(self):\n",
        "        \"\"\"\n",
        "        Clean up the environments' resources.\n",
        "        \"\"\"\n",
        "        pass\n",
        "\n",
        "    def step(self, actions):\n",
        "        self.step_async(actions)\n",
        "        return self.step_wait()\n",
        "\n",
        "    \n",
        "class CloudpickleWrapper(object):\n",
        "    \"\"\"\n",
        "    Uses cloudpickle to serialize contents (otherwise multiprocessing tries to use pickle)\n",
        "    \"\"\"\n",
        "    def __init__(self, x):\n",
        "        self.x = x\n",
        "    def __getstate__(self):\n",
        "        import cloudpickle\n",
        "        return cloudpickle.dumps(self.x)\n",
        "    def __setstate__(self, ob):\n",
        "        import pickle\n",
        "        self.x = pickle.loads(ob)\n",
        "\n",
        "        \n",
        "class SubprocVecEnv(VecEnv):\n",
        "    def __init__(self, env_fns, spaces=None):\n",
        "        \"\"\"\n",
        "        envs: list of gym environments to run in subprocesses\n",
        "        \"\"\"\n",
        "        self.waiting = False\n",
        "        self.closed = False\n",
        "        nenvs = len(env_fns)\n",
        "        self.nenvs = nenvs\n",
        "        self.remotes, self.work_remotes = zip(*[Pipe() for _ in range(nenvs)])\n",
        "        self.ps = [Process(target=worker, args=(work_remote, remote, CloudpickleWrapper(env_fn)))\n",
        "            for (work_remote, remote, env_fn) in zip(self.work_remotes, self.remotes, env_fns)]\n",
        "        for p in self.ps:\n",
        "            p.daemon = True # if the main process crashes, we should not cause things to hang\n",
        "            p.start()\n",
        "        for remote in self.work_remotes:\n",
        "            remote.close()\n",
        "\n",
        "        self.remotes[0].send(('get_spaces', None))\n",
        "        observation_space, action_space = self.remotes[0].recv()\n",
        "        VecEnv.__init__(self, len(env_fns), observation_space, action_space)\n",
        "\n",
        "    def step_async(self, actions):\n",
        "        for remote, action in zip(self.remotes, actions):\n",
        "            remote.send(('step', action))\n",
        "        self.waiting = True\n",
        "\n",
        "    def step_wait(self):\n",
        "        results = [remote.recv() for remote in self.remotes]\n",
        "        self.waiting = False\n",
        "        obs, rews, dones, infos = zip(*results)\n",
        "        return np.stack(obs), np.stack(rews), np.stack(dones), infos\n",
        "\n",
        "    def reset(self):\n",
        "        for remote in self.remotes:\n",
        "            remote.send(('reset', None))\n",
        "        return np.stack([remote.recv() for remote in self.remotes])\n",
        "\n",
        "    def reset_task(self):\n",
        "        for remote in self.remotes:\n",
        "            remote.send(('reset_task', None))\n",
        "        return np.stack([remote.recv() for remote in self.remotes])\n",
        "\n",
        "    def close(self):\n",
        "        if self.closed:\n",
        "            return\n",
        "        if self.waiting:\n",
        "            for remote in self.remotes:            \n",
        "                remote.recv()\n",
        "        for remote in self.remotes:\n",
        "            remote.send(('close', None))\n",
        "        for p in self.ps:\n",
        "            p.join()\n",
        "            self.closed = True\n",
        "            \n",
        "    def __len__(self):\n",
        "        return self.nenvs\n"
      ],
      "execution_count": 0,
      "outputs": []
    },
    {
      "cell_type": "code",
      "metadata": {
        "id": "TgqSiFRD7-j8",
        "colab_type": "code",
        "colab": {}
      },
      "source": [
        "###Create Environment\n",
        "\n",
        "\n",
        "#num_envs = 16\n",
        "num_envs = 2\n",
        "env_name = 'CartPole-v0'\n",
        "\n",
        "def make_env():\n",
        "    def _thunk():\n",
        "        env = gym.make(env_name)\n",
        "        return env\n",
        "    return _thunk\n",
        "\n",
        "envs =[make_env() for i in range(16)]\n",
        "envs = SubprocVecEnv(envs)\n",
        "env = gym.make(env_name)\n",
        "\n"
      ],
      "execution_count": 0,
      "outputs": []
    },
    {
      "cell_type": "code",
      "metadata": {
        "id": "CWQbxsV89tft",
        "colab_type": "code",
        "colab": {}
      },
      "source": [
        "##Actor Critic Network"
      ],
      "execution_count": 0,
      "outputs": []
    },
    {
      "cell_type": "code",
      "metadata": {
        "id": "uNXXmndKGvur",
        "colab_type": "code",
        "colab": {}
      },
      "source": [
        "\n",
        "class ActorCritic(nn.Module):\n",
        "    def __init__(self, num_inputs, num_actions, hidden_size=256):\n",
        "        \n",
        "        super(ActorCritic, self).__init__()\n",
        "\n",
        "        self.num_inputs  = num_inputs\n",
        "        self.num_actions = num_actions\n",
        "        self.hidden_size = hidden_size\n",
        "\n",
        "        ##critic\n",
        "        self.critic_linear1 = nn.Linear(self.num_inputs, self.hidden_size)\n",
        "        self.critic_linear2 = nn.Linear(self.hidden_size, 1)\n",
        "\n",
        "        ##actors\n",
        "        self.actor_linear1 = nn.Linear(self.num_inputs, self.hidden_size)\n",
        "        self.actor_linear2 = nn.Linear(self.hidden_size, self.num_actions)   \n",
        "    \n",
        "    def forward(self, state):\n",
        "\n",
        "        #state = Variable(torch.from_numpy(state).float().unsqueeze(0)).to(device)\n",
        "\n",
        "        ##critic\n",
        "        value = F.relu(self.critic_linear1(state))\n",
        "        value = self.critic_linear2(value)\n",
        "\n",
        "        ##actor\n",
        "        probs = F.relu(self.actor_linear1(state))\n",
        "        probs = F.softmax(self.actor_linear2(probs), dim=1)\n",
        "        policy_dist = Categorical(probs)\n",
        "        \n",
        "\n",
        "        return value, policy_dist"
      ],
      "execution_count": 0,
      "outputs": []
    },
    {
      "cell_type": "code",
      "metadata": {
        "id": "brrtLhmK-pk1",
        "colab_type": "code",
        "colab": {}
      },
      "source": [
        "def plot(frame_idx, rewards):\n",
        "    clear_output(True)\n",
        "    plt.figure(figsize=(20,5))\n",
        "    plt.subplot(131)\n",
        "    plt.title('frame %s. reward: %s' % (frame_idx, rewards[-1]))\n",
        "    plt.plot(rewards)\n",
        "    plt.show()\n",
        "    \n",
        "def test_env(vis=False):\n",
        "    state = env.reset()\n",
        "    if vis: env.render()\n",
        "    done = False\n",
        "    total_reward = 0\n",
        "    while not done:\n",
        "        state = torch.FloatTensor(state).unsqueeze(0).to(device)\n",
        "        dist, _ = model(state)\n",
        "        next_state, reward, done, _ = env.step(dist.sample().cpu().numpy()[0])\n",
        "        state = next_state\n",
        "        if vis: env.render()\n",
        "        total_reward += reward\n",
        "    return total_reward"
      ],
      "execution_count": 0,
      "outputs": []
    },
    {
      "cell_type": "code",
      "metadata": {
        "id": "9yJudL2smnpi",
        "colab_type": "code",
        "colab": {}
      },
      "source": [
        "def compute_returns(next_value, rewards, masks, gamma=0.99):\n",
        "    R = next_value\n",
        "    returns = []\n",
        "    for step in reversed(range(len(rewards))):\n",
        "        R = rewards[step] + gamma * R * masks[step]\n",
        "        returns.insert(0, R)\n",
        "    return returns"
      ],
      "execution_count": 0,
      "outputs": []
    },
    {
      "cell_type": "code",
      "metadata": {
        "id": "Xqg1-x1q8O7C",
        "colab_type": "code",
        "colab": {}
      },
      "source": [
        "num_inputs = env.observation_space.shape[0]\n",
        "num_actions = env.action_space.n"
      ],
      "execution_count": 0,
      "outputs": []
    },
    {
      "cell_type": "code",
      "metadata": {
        "id": "fQQyCd8TlcLG",
        "colab_type": "code",
        "colab": {}
      },
      "source": [
        "from collections import deque\n",
        "\n",
        "\n",
        "\n",
        "def a2c(envs,num_inputs,num_actions,learning_rate,n_episodes,gamma=0.99):\n",
        "    '''\n",
        "    A2C\n",
        "    Here I have passed a single environment\n",
        "    '''\n",
        "\n",
        "\n",
        "    actor_critic = ActorCritic(num_inputs, num_actions, hidden_size).to(device)\n",
        "    ac_optimizer = Adam(actor_critic.parameters(), lr = learning_rate)\n",
        "    checkpoint_filename= 'actor_critic.pth'\n",
        "\n",
        "    #all_length = []\n",
        "    #avg_length = []\n",
        "    #all_reward = []\n",
        "    #entropy_term = 0\n",
        "    scores = []\n",
        "    scores_deque = deque(maxlen =100)\n",
        "    \n",
        "    best_score = -np.inf\n",
        "\n",
        "    for episode in range(1, n_episodes+1):\n",
        "        log_probs = []\n",
        "        values = []\n",
        "        rewards = []\n",
        "        masks =[]\n",
        "        entropy = 0\n",
        "        state = envs.reset()\n",
        "        #print(state)\n",
        "        score =0\n",
        "        \n",
        "        #for t in range(num_steps):\n",
        "        while True:\n",
        "            #print('1**')\n",
        "            state = torch.FloatTensor(state).to(device)\n",
        "            #print(state)\n",
        "            value, policy_dist = actor_critic(state)\n",
        "\n",
        "            action = policy_dist.sample()\n",
        "            #print('2**')\n",
        "            next_state, reward, done, _ = envs.step(action.cpu().numpy())\n",
        "            \n",
        "            log_prob = policy_dist.log_prob(action)\n",
        "            entropy = policy_dist.entropy().mean()\n",
        "            #print('3**')\n",
        "            \n",
        "            log_probs.append(log_prob)\n",
        "            values.append(value)\n",
        "            rewards.append(torch.FloatTensor(reward).unsqueeze(1).to(device))\n",
        "            masks.append(torch.FloatTensor(1 - done).unsqueeze(1).to(device))\n",
        "            score += reward\n",
        "\n",
        "            state = next_state\n",
        "            if np.any(done):\n",
        "                break\n",
        "            #print(score)\n",
        "        ##Here one episode is done \n",
        "\n",
        "        ##We came out since any one of the episode has ended.\n",
        "        ##So lets calculate the next_value of the last state\n",
        "        #next_state = torch.FloatTensor(next_state).to(device)\n",
        "        #next_value,_ = actor_critic(next_state)\n",
        "        ##But I am penalizing it by not giving award since \n",
        "        ##one of the episode ended\n",
        "        next_value =0.0\n",
        "        ##You may alos set the next_value to  a negetive value \n",
        "        ##if the number of timesteps in one episode in less than may be 200 for example\n",
        "        ##which means a failure has occured\n",
        "        returns = compute_returns(next_value, rewards, masks, gamma)\n",
        "        #print('4**')\n",
        "        log_probs = torch.cat(log_probs)\n",
        "        returns = torch.cat(returns).detach()\n",
        "        values = torch.cat(values)      \n",
        "        ## Full Monte Carlo Reward used for calculating return \n",
        "        advantage = returns - values\n",
        "        critic_loss = advantage.pow(2).mean()\n",
        "        actor_loss = -(log_probs*advantage.detach()).mean()\n",
        "        #print('5**')                   \n",
        "        scores.append(score)\n",
        "        scores_deque.append(score)\n",
        "        loss = actor_loss + 0.5 * critic_loss - 0.001 * entropy\n",
        "        #print('6**')\n",
        "        ac_optimizer.zero_grad()\n",
        "        loss.backward()\n",
        "        nn.utils.clip_grad_norm_(actor_critic.parameters(), 0.5)\n",
        "        ac_optimizer.step()\n",
        "        if np.mean(score) > best_score:\n",
        "            best_score= np.mean(score)\n",
        "            torch.save(actor_critic.state_dict(), checkpoint_filename)              \n",
        "        print('\\rEpisode: \\t{} \\tScore: \\t{:.2f} \\tAverage Score: \\t{:.2f}'.format(episode, np.mean(score),\n",
        "                                                                                 np.mean(scores_deque)), end=\" \")                 \n",
        "   \n",
        "    return scores,scores_deque\n"
      ],
      "execution_count": 0,
      "outputs": []
    },
    {
      "cell_type": "code",
      "metadata": {
        "id": "HplJNhxs8b1Z",
        "colab_type": "code",
        "colab": {
          "base_uri": "https://localhost:8080/",
          "height": 34
        },
        "outputId": "ca933a73-471a-4138-90b6-7b62e89fd197"
      },
      "source": [
        "scores,scores_deque = a2c(envs,num_inputs,num_actions,learning_rate,n_episodes,gamma=0.99)"
      ],
      "execution_count": 31,
      "outputs": [
        {
          "output_type": "stream",
          "text": [
            "Episode: \t4000 \tScore: \t200.00 \tAverage Score: \t177.67 "
          ],
          "name": "stdout"
        }
      ]
    },
    {
      "cell_type": "code",
      "metadata": {
        "id": "DFXCw0xV4uOA",
        "colab_type": "code",
        "colab": {
          "base_uri": "https://localhost:8080/",
          "height": 295
        },
        "outputId": "f123f5ca-eb45-4785-c9ae-1c413b81a845"
      },
      "source": [
        "## With next_value equal to zero\n",
        "import matplotlib.pyplot as plt\n",
        "\n",
        "fig = plt.figure()\n",
        "ax = fig.add_subplot(111)\n",
        "plt.plot(np.arange(1, len(scores)+1), scores)\n",
        "plt.ylabel('Score')\n",
        "plt.xlabel('Episode #')\n",
        "plt.title('Score achieved with Noise and individual Memory for each Actor')\n",
        "plt.show();"
      ],
      "execution_count": 33,
      "outputs": [
        {
          "output_type": "display_data",
          "data": {
            "image/png": "[encoded data removed]",
            "text/plain": [
              "<Figure size 432x288 with 1 Axes>"
            ]
          },
          "metadata": {
            "tags": []
          }
        }
      ]
    },
    {
      "cell_type": "code",
      "metadata": {
        "id": "Uo2Ik0jeBp3y",
        "colab_type": "code",
        "colab": {
          "base_uri": "https://localhost:8080/",
          "height": 295
        },
        "outputId": "ac3d8d96-2d4f-4558-a430-1973c3e7c318"
      },
      "source": [
        "## With next_value not equal to zero\n",
        "import matplotlib.pyplot as plt\n",
        "\n",
        "fig = plt.figure()\n",
        "ax = fig.add_subplot(111)\n",
        "plt.plot(np.arange(1, len(scores)+1), scores)\n",
        "plt.ylabel('Score')\n",
        "plt.xlabel('Episode #')\n",
        "plt.title('Score achieved with Noise and individual Memory for each Actor')\n",
        "plt.show();"
      ],
      "execution_count": 27,
      "outputs": [
        {
          "output_type": "display_data",
          "data": {
            "image/png": "[encoded data removed]",
            "text/plain": [
              "<Figure size 432x288 with 1 Axes>"
            ]
          },
          "metadata": {
            "tags": []
          }
        }
      ]
    },
    {
      "cell_type": "code",
      "metadata": {
        "id": "3_rqQbb_3N53",
        "colab_type": "code",
        "colab": {}
      },
      "source": [
        "##TO check my compute reward function"
      ],
      "execution_count": 0,
      "outputs": []
    },
    {
      "cell_type": "code",
      "metadata": {
        "id": "goVgrrrkxKr1",
        "colab_type": "code",
        "outputId": "7f759859-7d65-4c44-82e1-dbd282a3c324",
        "colab": {
          "base_uri": "https://localhost:8080/",
          "height": 286
        }
      },
      "source": [
        "rewards =[1,2,3,4]\n",
        "masks = [1,1,1,0]\n",
        "next_value=2.0\n",
        "gamma=0.99\n",
        "R = next_value\n",
        "returns = []\n",
        "for step in reversed(range(len(rewards))):\n",
        "    print(rewards[step])\n",
        "    print('masks',masks[step])\n",
        "    print('R',R)\n",
        "    R = rewards[step] + gamma * R * masks[step]\n",
        "    returns.insert(0, R)\n",
        "    print(returns)"
      ],
      "execution_count": 0,
      "outputs": [
        {
          "output_type": "stream",
          "text": [
            "4\n",
            "masks 0\n",
            "R 2.0\n",
            "[4.0]\n",
            "3\n",
            "masks 1\n",
            "R 4.0\n",
            "[6.96, 4.0]\n",
            "2\n",
            "masks 1\n",
            "R 6.96\n",
            "[8.8904, 6.96, 4.0]\n",
            "1\n",
            "masks 1\n",
            "R 8.8904\n",
            "[9.801496, 8.8904, 6.96, 4.0]\n"
          ],
          "name": "stdout"
        }
      ]
    },
    {
      "cell_type": "code",
      "metadata": {
        "id": "3ewXOu1BGeTj",
        "colab_type": "code",
        "outputId": "ca6209c1-961f-4557-cbae-fee9a26feb18",
        "colab": {
          "base_uri": "https://localhost:8080/",
          "height": 286
        }
      },
      "source": [
        "rewards =[1,2,3,4]\n",
        "masks = [1,1,1,1]\n",
        "next_value=2.0\n",
        "gamma=0.99\n",
        "R = next_value\n",
        "returns = []\n",
        "for step in reversed(range(len(rewards))):\n",
        "    print(rewards[step])\n",
        "    print('masks',masks[step])\n",
        "    print('R',R)\n",
        "    R = rewards[step] + gamma * R * masks[step]\n",
        "    returns.insert(0, R)\n",
        "    print(returns)"
      ],
      "execution_count": 0,
      "outputs": [
        {
          "output_type": "stream",
          "text": [
            "4\n",
            "masks 1\n",
            "R 2.0\n",
            "[5.98]\n",
            "3\n",
            "masks 1\n",
            "R 5.98\n",
            "[8.920200000000001, 5.98]\n",
            "2\n",
            "masks 1\n",
            "R 8.920200000000001\n",
            "[10.830998000000001, 8.920200000000001, 5.98]\n",
            "1\n",
            "masks 1\n",
            "R 10.830998000000001\n",
            "[11.722688020000001, 10.830998000000001, 8.920200000000001, 5.98]\n"
          ],
          "name": "stdout"
        }
      ]
    },
    {
      "cell_type": "code",
      "metadata": {
        "id": "jwOgzI8CGz8a",
        "colab_type": "code",
        "colab": {}
      },
      "source": [
        ""
      ],
      "execution_count": 0,
      "outputs": []
    }
  ]
}